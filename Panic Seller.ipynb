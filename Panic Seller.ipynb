{
 "cells": [
  {
   "cell_type": "markdown",
   "id": "c68eeebe-173d-44fe-8680-3d5070b42831",
   "metadata": {},
   "source": [
    "# Overview\n",
    "\n",
    "This noteboook will sniff your phone for a designated text message. The moment that your mother texts you with the keywork \"GameStop\", this script will log into your Robinhood account and sell all of your assets.\n",
    "\n",
    "Dependencies\n",
    "- Must be run on a MacOS device to sniff through iMessage"
   ]
  },
  {
   "cell_type": "code",
   "execution_count": null,
   "id": "1c033b81-4d5a-426c-a6f5-e6a3a0c7fb39",
   "metadata": {
    "scrolled": true
   },
   "outputs": [],
   "source": [
    "pip install robin_stocks"
   ]
  },
  {
   "cell_type": "markdown",
   "id": "7195745f-8c58-4dfe-9cf0-d04a30912a3d",
   "metadata": {},
   "source": [
    "# Global Variables"
   ]
  },
  {
   "cell_type": "code",
   "execution_count": null,
   "id": "6f544f61-d3a5-45c9-81fd-adea1384ed6e",
   "metadata": {},
   "outputs": [],
   "source": [
    "target_sender = 'Mom'\n",
    "keywords = ['GME','GameStop','AMC']"
   ]
  },
  {
   "cell_type": "markdown",
   "id": "0236c8ce-1b19-4262-8c43-829815cf90bf",
   "metadata": {},
   "source": [
    "# Robinhood Code"
   ]
  },
  {
   "cell_type": "code",
   "execution_count": null,
   "id": "f34d1cca-79e1-425e-b686-89ef658d0c1f",
   "metadata": {},
   "outputs": [],
   "source": [
    "import robin_stocks.robinhood as r\n",
    "\n",
    "def sell_all_stocks():\n",
    "    # Get all owned stocks\n",
    "    portfolio = r.build_holdings()\n",
    "\n",
    "    for symbol, data in portfolio.items():\n",
    "        quantity = data['quantity']\n",
    "        if float(quantity) > 0:\n",
    "            # Place a market sell order for each stock\n",
    "            r.orders.order_sell_market(symbol, quantity)\n",
    "\n",
    "def sell_all_options():\n",
    "    options = r.options.get_open_option_positions()\n",
    "\n",
    "    for option in options:\n",
    "        option_id = option['id']\n",
    "        quantity = option['quantity']\n",
    "        if float(quantity) > 0:\n",
    "            r.options.order_sell_to_close(option_id, quantity)\n",
    "\n",
    "def sell_all_crypto():\n",
    "    cryptos = r.crypto.get_crypto_positions()\n",
    "\n",
    "    for crypto in cryptos:\n",
    "        symbol = crypto['currency']['code']\n",
    "        quantity = crypto['quantity']\n",
    "        if float(quantity) > 0:\n",
    "            r.orders.order_sell_crypto_by_quantity(symbol, quantity)\n",
    "\n",
    "\n",
    "# Usage\n",
    "\n",
    "# Log in to Robinhood\n",
    "def sell_everything():\n",
    "    username = 'your_username'\n",
    "    password = 'your_password'\n",
    "    r.login(username, password)\n",
    "    \n",
    "    sell_all_stocks()\n",
    "    sell_all_options()\n",
    "    sell_all_crypto()\n",
    "    \n",
    "    r.logout()\n"
   ]
  },
  {
   "cell_type": "markdown",
   "id": "3807c317-944d-42bd-985e-a9afa323cd8a",
   "metadata": {},
   "source": [
    "# Sniff through iMessage"
   ]
  },
  {
   "cell_type": "code",
   "execution_count": null,
   "id": "ca250c7b-aa1e-4ff6-b903-93078698f56b",
   "metadata": {},
   "outputs": [],
   "source": [
    "import subprocess\n",
    "import time\n",
    "\n",
    "# Function to execute AppleScript and get the latest message\n",
    "def get_latest_imessage():\n",
    "    script = '''\n",
    "    tell application \"Messages\"\n",
    "        set latestMessage to a reference to the first item of (get messages of text chat 1)\n",
    "        set messageText to latestMessage's text\n",
    "        set senderName to latestMessage's sender's name\n",
    "        return senderName & \": \" & messageText\n",
    "    end tell\n",
    "    '''\n",
    "    try:\n",
    "        result = subprocess.run(['osascript', '-e', script], capture_output=True, text=True)\n",
    "        return result.stdout.strip()\n",
    "    except Exception as e:\n",
    "        print(f\"Error: {e}\")\n",
    "        return None\n",
    "\n",
    "# Previous message to compare with new messages\n",
    "previous_message = \"\"\n",
    "\n",
    "# Check for new messages every second\n",
    "while True:\n",
    "    latest_message = get_latest_imessage()\n",
    "    if latest_message and latest_message != previous_message:\n",
    "        sender, message = latest_message.split(': ', 1)\n",
    "        \n",
    "        print(f\"New message received from {sender}: {message}\")\n",
    "        previous_message = latest_message\n",
    "        print(f\"Sender stored as string: {sender}\")\n",
    "\n",
    "        if sender == target_sender and keywords in previous_message():\n",
    "            sell_everything()\n",
    "    time.sleep(1)\n"
   ]
  }
 ],
 "metadata": {
  "kernelspec": {
   "display_name": "Python 3 (ipykernel)",
   "language": "python",
   "name": "python3"
  },
  "language_info": {
   "codemirror_mode": {
    "name": "ipython",
    "version": 3
   },
   "file_extension": ".py",
   "mimetype": "text/x-python",
   "name": "python",
   "nbconvert_exporter": "python",
   "pygments_lexer": "ipython3",
   "version": "3.11.7"
  }
 },
 "nbformat": 4,
 "nbformat_minor": 5
}
