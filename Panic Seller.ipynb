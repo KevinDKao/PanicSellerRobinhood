{
 "cells": [
  {
   "cell_type": "markdown",
   "id": "c68eeebe-173d-44fe-8680-3d5070b42831",
   "metadata": {},
   "source": [
    "# Overview\n",
    "\n",
    "This noteboook will sniff your phone for a designated text message. The moment that your mother texts you with the keywork \"GameStop\", this script will log into your Robinhood account and sell all of your assets.\n",
    "\n",
    "Dependencies\n",
    "- Must be run on a MacOS device to sniff through iMessage"
   ]
  },
  {
   "cell_type": "code",
   "execution_count": 1,
   "id": "1c033b81-4d5a-426c-a6f5-e6a3a0c7fb39",
   "metadata": {
    "scrolled": true
   },
   "outputs": [
    {
     "name": "stdout",
     "output_type": "stream",
     "text": [
      "Collecting robin_stocks\n",
      "  Downloading robin_stocks-3.1.0-py3-none-any.whl.metadata (5.2 kB)\n",
      "Requirement already satisfied: requests in c:\\users\\kevin\\anaconda3\\lib\\site-packages (from robin_stocks) (2.31.0)\n",
      "Collecting pyotp (from robin_stocks)\n",
      "  Downloading pyotp-2.9.0-py3-none-any.whl.metadata (9.8 kB)\n",
      "Requirement already satisfied: python-dotenv in c:\\users\\kevin\\anaconda3\\lib\\site-packages (from robin_stocks) (0.21.0)\n",
      "Requirement already satisfied: cryptography in c:\\users\\kevin\\anaconda3\\lib\\site-packages (from robin_stocks) (42.0.2)\n",
      "Requirement already satisfied: cffi>=1.12 in c:\\users\\kevin\\anaconda3\\lib\\site-packages (from cryptography->robin_stocks) (1.16.0)\n",
      "Requirement already satisfied: charset-normalizer<4,>=2 in c:\\users\\kevin\\anaconda3\\lib\\site-packages (from requests->robin_stocks) (2.0.4)\n",
      "Requirement already satisfied: idna<4,>=2.5 in c:\\users\\kevin\\anaconda3\\lib\\site-packages (from requests->robin_stocks) (3.4)\n",
      "Requirement already satisfied: urllib3<3,>=1.21.1 in c:\\users\\kevin\\anaconda3\\lib\\site-packages (from requests->robin_stocks) (2.0.7)\n",
      "Requirement already satisfied: certifi>=2017.4.17 in c:\\users\\kevin\\anaconda3\\lib\\site-packages (from requests->robin_stocks) (2024.2.2)\n",
      "Requirement already satisfied: pycparser in c:\\users\\kevin\\anaconda3\\lib\\site-packages (from cffi>=1.12->cryptography->robin_stocks) (2.21)\n",
      "Downloading robin_stocks-3.1.0-py3-none-any.whl (133 kB)\n",
      "   ---------------------------------------- 0.0/133.3 kB ? eta -:--:--\n",
      "   ----------- --------------------------- 41.0/133.3 kB 991.0 kB/s eta 0:00:01\n",
      "   ---------------------------------------- 133.3/133.3 kB 2.0 MB/s eta 0:00:00\n",
      "Downloading pyotp-2.9.0-py3-none-any.whl (13 kB)\n",
      "Installing collected packages: pyotp, robin_stocks\n",
      "Successfully installed pyotp-2.9.0 robin_stocks-3.1.0\n",
      "Note: you may need to restart the kernel to use updated packages.\n"
     ]
    }
   ],
   "source": [
    "pip install robin_stocks"
   ]
  },
  {
   "cell_type": "markdown",
   "id": "7195745f-8c58-4dfe-9cf0-d04a30912a3d",
   "metadata": {},
   "source": [
    "# Global Variables"
   ]
  },
  {
   "cell_type": "code",
   "execution_count": null,
   "id": "6f544f61-d3a5-45c9-81fd-adea1384ed6e",
   "metadata": {},
   "outputs": [],
   "source": [
    "target_sender = 'Mom'\n",
    "keywords = ['GME','GameStop','AMC']"
   ]
  },
  {
   "cell_type": "markdown",
   "id": "0236c8ce-1b19-4262-8c43-829815cf90bf",
   "metadata": {},
   "source": [
    "# Robinhood Code"
   ]
  },
  {
   "cell_type": "code",
   "execution_count": 3,
   "id": "f34d1cca-79e1-425e-b686-89ef658d0c1f",
   "metadata": {},
   "outputs": [
    {
     "ename": "Exception",
     "evalue": "Unable to log in with provided credentials.",
     "output_type": "error",
     "traceback": [
      "\u001b[1;31m---------------------------------------------------------------------------\u001b[0m",
      "\u001b[1;31mException\u001b[0m                                 Traceback (most recent call last)",
      "Cell \u001b[1;32mIn[3], line 6\u001b[0m\n\u001b[0;32m      4\u001b[0m username \u001b[38;5;241m=\u001b[39m \u001b[38;5;124m'\u001b[39m\u001b[38;5;124mkevindkao@gmail.com\u001b[39m\u001b[38;5;124m'\u001b[39m\n\u001b[0;32m      5\u001b[0m password \u001b[38;5;241m=\u001b[39m \u001b[38;5;124m'\u001b[39m\u001b[38;5;124myour_password\u001b[39m\u001b[38;5;124m'\u001b[39m\n\u001b[1;32m----> 6\u001b[0m r\u001b[38;5;241m.\u001b[39mlogin(username, password)\n\u001b[0;32m      8\u001b[0m \u001b[38;5;66;03m# Function to sell all stocks\u001b[39;00m\n\u001b[0;32m      9\u001b[0m \u001b[38;5;28;01mdef\u001b[39;00m \u001b[38;5;21msell_all_stocks\u001b[39m():\n\u001b[0;32m     10\u001b[0m     \u001b[38;5;66;03m# Get all owned stocks\u001b[39;00m\n",
      "File \u001b[1;32m~\\anaconda3\\Lib\\site-packages\\robin_stocks\\robinhood\\authentication.py:190\u001b[0m, in \u001b[0;36mlogin\u001b[1;34m(username, password, expiresIn, scope, by_sms, store_session, mfa_code, pickle_name)\u001b[0m\n\u001b[0;32m    185\u001b[0m                 pickle\u001b[38;5;241m.\u001b[39mdump({\u001b[38;5;124m'\u001b[39m\u001b[38;5;124mtoken_type\u001b[39m\u001b[38;5;124m'\u001b[39m: data[\u001b[38;5;124m'\u001b[39m\u001b[38;5;124mtoken_type\u001b[39m\u001b[38;5;124m'\u001b[39m],\n\u001b[0;32m    186\u001b[0m                              \u001b[38;5;124m'\u001b[39m\u001b[38;5;124maccess_token\u001b[39m\u001b[38;5;124m'\u001b[39m: data[\u001b[38;5;124m'\u001b[39m\u001b[38;5;124maccess_token\u001b[39m\u001b[38;5;124m'\u001b[39m],\n\u001b[0;32m    187\u001b[0m                              \u001b[38;5;124m'\u001b[39m\u001b[38;5;124mrefresh_token\u001b[39m\u001b[38;5;124m'\u001b[39m: data[\u001b[38;5;124m'\u001b[39m\u001b[38;5;124mrefresh_token\u001b[39m\u001b[38;5;124m'\u001b[39m],\n\u001b[0;32m    188\u001b[0m                              \u001b[38;5;124m'\u001b[39m\u001b[38;5;124mdevice_token\u001b[39m\u001b[38;5;124m'\u001b[39m: payload[\u001b[38;5;124m'\u001b[39m\u001b[38;5;124mdevice_token\u001b[39m\u001b[38;5;124m'\u001b[39m]}, f)\n\u001b[0;32m    189\u001b[0m     \u001b[38;5;28;01melse\u001b[39;00m:\n\u001b[1;32m--> 190\u001b[0m         \u001b[38;5;28;01mraise\u001b[39;00m \u001b[38;5;167;01mException\u001b[39;00m(data[\u001b[38;5;124m'\u001b[39m\u001b[38;5;124mdetail\u001b[39m\u001b[38;5;124m'\u001b[39m])\n\u001b[0;32m    191\u001b[0m \u001b[38;5;28;01melse\u001b[39;00m:\n\u001b[0;32m    192\u001b[0m     \u001b[38;5;28;01mraise\u001b[39;00m \u001b[38;5;167;01mException\u001b[39;00m(\u001b[38;5;124m'\u001b[39m\u001b[38;5;124mError: Trouble connecting to robinhood API. Check internet connection.\u001b[39m\u001b[38;5;124m'\u001b[39m)\n",
      "\u001b[1;31mException\u001b[0m: Unable to log in with provided credentials."
     ]
    }
   ],
   "source": [
    "import robin_stocks.robinhood as r\n",
    "\n",
    "def sell_all_stocks():\n",
    "    # Get all owned stocks\n",
    "    portfolio = r.build_holdings()\n",
    "\n",
    "    for symbol, data in portfolio.items():\n",
    "        quantity = data['quantity']\n",
    "        if float(quantity) > 0:\n",
    "            # Place a market sell order for each stock\n",
    "            r.orders.order_sell_market(symbol, quantity)\n",
    "\n",
    "def sell_all_options():\n",
    "    options = r.options.get_open_option_positions()\n",
    "\n",
    "    for option in options:\n",
    "        option_id = option['id']\n",
    "        quantity = option['quantity']\n",
    "        if float(quantity) > 0:\n",
    "            r.options.order_sell_to_close(option_id, quantity)\n",
    "\n",
    "def sell_all_crypto():\n",
    "    cryptos = r.crypto.get_crypto_positions()\n",
    "\n",
    "    for crypto in cryptos:\n",
    "        symbol = crypto['currency']['code']\n",
    "        quantity = crypto['quantity']\n",
    "        if float(quantity) > 0:\n",
    "            r.orders.order_sell_crypto_by_quantity(symbol, quantity)\n",
    "\n",
    "\n",
    "# Usage\n",
    "\n",
    "# Log in to Robinhood\n",
    "def sell_everything():\n",
    "    username = 'your_username'\n",
    "    password = 'your_password'\n",
    "    r.login(username, password)\n",
    "    \n",
    "    sell_all_stocks()\n",
    "    sell_all_options()\n",
    "    sell_all_crypto()\n",
    "    \n",
    "    r.logout()\n"
   ]
  },
  {
   "cell_type": "markdown",
   "id": "3807c317-944d-42bd-985e-a9afa323cd8a",
   "metadata": {},
   "source": [
    "# Sniff through iMessage"
   ]
  },
  {
   "cell_type": "code",
   "execution_count": null,
   "id": "ca250c7b-aa1e-4ff6-b903-93078698f56b",
   "metadata": {},
   "outputs": [],
   "source": [
    "import subprocess\n",
    "import time\n",
    "\n",
    "# Function to execute AppleScript and get the latest message\n",
    "def get_latest_imessage():\n",
    "    script = '''\n",
    "    tell application \"Messages\"\n",
    "        set latestMessage to a reference to the first item of (get messages of text chat 1)\n",
    "        set messageText to latestMessage's text\n",
    "        set senderName to latestMessage's sender's name\n",
    "        return senderName & \": \" & messageText\n",
    "    end tell\n",
    "    '''\n",
    "    try:\n",
    "        result = subprocess.run(['osascript', '-e', script], capture_output=True, text=True)\n",
    "        return result.stdout.strip()\n",
    "    except Exception as e:\n",
    "        print(f\"Error: {e}\")\n",
    "        return None\n",
    "\n",
    "# Previous message to compare with new messages\n",
    "previous_message = \"\"\n",
    "\n",
    "# Check for new messages every second\n",
    "while True:\n",
    "    latest_message = get_latest_imessage()\n",
    "    if latest_message and latest_message != previous_message:\n",
    "        sender, message = latest_message.split(': ', 1)\n",
    "        \n",
    "        print(f\"New message received from {sender}: {message}\")\n",
    "        previous_message = latest_message\n",
    "        print(f\"Sender stored as string: {sender}\")\n",
    "\n",
    "        if sender == target_sender and keywords in previous_message():\n",
    "            sell_everything()\n",
    "    time.sleep(1)\n"
   ]
  }
 ],
 "metadata": {
  "kernelspec": {
   "display_name": "Python 3 (ipykernel)",
   "language": "python",
   "name": "python3"
  },
  "language_info": {
   "codemirror_mode": {
    "name": "ipython",
    "version": 3
   },
   "file_extension": ".py",
   "mimetype": "text/x-python",
   "name": "python",
   "nbconvert_exporter": "python",
   "pygments_lexer": "ipython3",
   "version": "3.11.7"
  }
 },
 "nbformat": 4,
 "nbformat_minor": 5
}
